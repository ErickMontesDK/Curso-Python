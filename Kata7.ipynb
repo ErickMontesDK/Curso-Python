{
 "cells": [
  {
   "cell_type": "markdown",
   "metadata": {},
   "source": [
    "# Kata 7\n",
    "## Ejercicio 1: Uso de ciclos while en Python\n",
    "En este ejercicio, estás creando una aplicación que solicita a un usuario que ingrese una lista de planetas. En un ejercicio posterior, agregarás código que muestre la lista. Por ahora, crearás solo el código que solicita al usuario la lista de planetas.\n",
    "\n",
    "Comienza agregando dos variables, una para la entrada del usuario, con el nombre new_planet, y otra variable para la lista de planetas, denominada planets."
   ]
  },
  {
   "cell_type": "code",
   "execution_count": 1,
   "metadata": {},
   "outputs": [],
   "source": [
    "new_planet=input('Ingrese el nombre del planeta') #Solicita el planeta al usuario\n",
    "planets=[]"
   ]
  },
  {
   "cell_type": "markdown",
   "metadata": {},
   "source": [
    "#### Crea un ciclo while\n",
    "Comenzando con las variables que acabas de crear, crearás un ciclo while. El ciclo while se ejecutará mientras el new_planet no sea igual a la palabra 'done'.\n",
    "\n",
    "Dentro del ciclo, comprobarás si la variable new_planet contiene un valor, que debería ser el nombre de un planeta. Esta es una forma rápida de ver si el usuario ha introducido un valor. Si lo han hecho, tu código agregará (append) ese valor a la variable planets.\n",
    "\n",
    "Finalmente, usarás input para solicitar al usuario que ingrese un nuevo nombre de planeta o que escriba done si ha terminado de ingresar nombres de planeta. Almacenará el valor de input en la variable new_planet."
   ]
  },
  {
   "cell_type": "code",
   "execution_count": 5,
   "metadata": {},
   "outputs": [
    {
     "name": "stdout",
     "output_type": "stream",
     "text": [
      "     Planeta agregado: mercurio\n",
      "     Planeta agregado: venus \n",
      "     Planeta agregado: tierra\n",
      "     Planeta agregado: marte\n",
      "     Planeta agregado: jupiter\n",
      "     Planeta agregado: saturno\n",
      "     Planeta agregado: urano\n",
      "     Planeta agregado: neptuno\n",
      "     Planeta agregado: pluton\n"
     ]
    }
   ],
   "source": [
    "new_planet=input('Ingrese el nombre del planeta') #Variable con el planeta ingresado\n",
    "planets=[] #Crea lista vacia\n",
    "\n",
    "while new_planet!='done': #Mientras el valor ingresado no sea 'done'\n",
    "    if new_planet: #Si hay un valor ingresado\n",
    "        planets.append(new_planet)  #Agrega el valor a la lista\n",
    "        print('     Planeta agregado: %s' % new_planet) #Imprime el planeta ingresado\n",
    "    new_planet=input('Ingresa el siguiente planeta o escribe \"done\" si terminaste') #Mensaje al usuario para nueva variable\n"
   ]
  },
  {
   "cell_type": "markdown",
   "metadata": {},
   "source": [
    "## Ejercicio 2: Creación de un ciclo \"for\"\n",
    "### Ejercicio: - Ciclo para una lista\n",
    "En el ejercicio anterior, creaste código para solicitar a los usuarios que introduzcan una lista de nombres de planetas. En este ejercicio, completarás la aplicación escribiendo código que muestre los nombres de esos planetas.\n",
    "\n",
    "#### Mostrar la lista de los planetas\n",
    "La variable planets almacena los nombres de planeta que ha introducido un usuario. Ahora usarás un ciclo para mostrar esas entradas.\n",
    "\n",
    "Crea un ciclo for para iterar sobre la lista planets. Puedes usar como nombre de la variable planet para cada planeta. Dentro del ciclo for, recuerda utilizar print para mostrar cada planet."
   ]
  },
  {
   "cell_type": "code",
   "execution_count": 7,
   "metadata": {},
   "outputs": [
    {
     "name": "stdout",
     "output_type": "stream",
     "text": [
      "1 .- Mercurio\n",
      "2 .- Venus \n",
      "3 .- Tierra\n",
      "4 .- Marte\n",
      "5 .- Jupiter\n",
      "6 .- Saturno\n",
      "7 .- Urano\n",
      "8 .- Neptuno\n",
      "9 .- Pluton\n"
     ]
    }
   ],
   "source": [
    "var=0   #Crea un contador para contar cuantos planetas se van analizando\n",
    "for planet in planets: #Por cada Planeta en la lista de Planetas\n",
    "    var=var+1 #Suma 1 al contador\n",
    "    print(var,'.-',planet.title()) #Imprime el contador y el planeta con formato de title"
   ]
  },
  {
   "cell_type": "markdown",
   "metadata": {},
   "source": [
    "## Practica propia\n",
    "Como parte de practica, la Kata fue rehecha de forma que fuera algo más compleja, de forma que se pueda sacar mas provecho de ella"
   ]
  },
  {
   "cell_type": "code",
   "execution_count": 8,
   "metadata": {},
   "outputs": [
    {
     "name": "stdout",
     "output_type": "stream",
     "text": [
      "Bienvenido a recolección de datos espaciales\n",
      "****************************************************************************************************\n",
      "\n",
      "A continuación se le pedira el ingreso de los planetas registrados.\n",
      "Una vez ingresado, escriba Listo para terminar\n",
      "Espere a que cargue el sistema\n",
      "5\n",
      "4\n",
      "3\n",
      "2\n",
      "1\n",
      "Listo\n",
      "     Planeta agregado: Tatooine\n",
      "     Planeta agregado: hoth\n",
      "     Planeta agregado: Jaku\n",
      "     Planeta agregado: Corouscant\n",
      "     Planeta agregado: Kashyyk\n",
      "     Planeta agregado: Dagobah\n",
      "     Planeta agregado: Dathomir\n",
      "Haz ingresado un total de 7 planetas\n",
      "1 .- Tatooine\n",
      "2 .- Hoth\n",
      "3 .- Jaku\n",
      "4 .- Corouscant\n",
      "5 .- Kashyyk\n",
      "6 .- Dagobah\n",
      "7 .- Dathomir\n"
     ]
    }
   ],
   "source": [
    "from time import sleep #Importa la funcion de sleep\n",
    "\n",
    "countdown=[5,4,3,2,1,'Listo'] #Cuenta regresiva\n",
    "planets=[] #Lista vacia de planetas\n",
    "\n",
    "#Mensaje de bienvenida\n",
    "print(f\"\"\"Bienvenido a recolección de datos espaciales \n",
    "{'*'*100}\n",
    "\"\"\") \n",
    "#Espera 2 seg\n",
    "sleep(2)\n",
    "\n",
    "#Comunicacion con usuario\n",
    "print(\"\"\"A continuación se le pedira el ingreso de los planetas registrados.\n",
    "Una vez ingresado, escriba Listo para terminar\n",
    "Espere a que cargue el sistema\"\"\")\n",
    "#Espera 2 seg\n",
    "sleep(2)\n",
    "\n",
    "for second in countdown: #Por cada segundo en la lista de cuenta regresiva\n",
    "    print(second) #Imprime el segundo\n",
    "    sleep(1)    #Espera 1 seg para imprimir el siguiente\n",
    "\n",
    "new_planet=input('Ingrese el nombre del planeta') #Solicita el planeta al usuario\n",
    "\n",
    "while new_planet!='Listo': #Mientras que el usuario no ingrese 'Listo'\n",
    "    if new_planet: #Si existe un valor ingresado\n",
    "        planets.append(new_planet)  #Agrega valor a la ista de planetas\n",
    "        print('     Planeta agregado: %s' % new_planet) #Imprime el planeta ingresado\n",
    "    new_planet=input('Ingresa el siguiente planeta o escribe \"Listo\" si terminaste') #Solicita nuevo planeta o confirmacion de usuario\n",
    "\n",
    "\n",
    "print('Haz ingresado un total de %s planetas' % len(planets)) #Cuantos planetas se ingresaron\n",
    "for planet in planets: #Por cada planeta en la lista de planetas\n",
    "    var=planets.index(planet)+1 #Muestra su ubicacion en la lista\n",
    "    print(var,'.-',planet.title())  #Imprime orden del planeta y el nombre "
   ]
  }
 ],
 "metadata": {
  "interpreter": {
   "hash": "164e0a39c0997ac06d7f882b8b725b39c1250014dc677040356b62b0511af8db"
  },
  "kernelspec": {
   "display_name": "Python 3.10.2 64-bit (windows store)",
   "language": "python",
   "name": "python3"
  },
  "language_info": {
   "codemirror_mode": {
    "name": "ipython",
    "version": 3
   },
   "file_extension": ".py",
   "mimetype": "text/x-python",
   "name": "python",
   "nbconvert_exporter": "python",
   "pygments_lexer": "ipython3",
   "version": "3.10.2"
  },
  "orig_nbformat": 4
 },
 "nbformat": 4,
 "nbformat_minor": 2
}
