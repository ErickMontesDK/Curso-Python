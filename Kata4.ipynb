{
 "cells": [
  {
   "cell_type": "markdown",
   "metadata": {},
   "source": [
    "# Kata 4\n",
    "## Ejercicio 1: Transformar cadenas\n",
    "Hay varias operaciones que puedes realizar en las cadenas cuando las manipulamos. En este ejercicio, usarás métodos de cadena para modificar el texto con hechos sobre la Luna y luego extraerás información para crear un breve resumen. \n",
    "El texto con el que trabajarás es el siguiente:"
   ]
  },
  {
   "cell_type": "code",
   "execution_count": 3,
   "metadata": {},
   "outputs": [],
   "source": [
    "text =\"\"\"Interesting facts about the Moon. The Moon is Earth's only satellite. There are several interesting facts about the Moon and how it affects life here on Earth. On average, the Moon moves 4cm away from the Earth every year. This yearly drift is not significant enough to cause immediate effects on Earth. The highest daylight temperature of the Moon is 127 C.\"\"\"\n"
   ]
  },
  {
   "cell_type": "markdown",
   "metadata": {},
   "source": [
    "Primero, divide el texto en cada oración para trabajar con su contenido:"
   ]
  },
  {
   "cell_type": "code",
   "execution_count": 8,
   "metadata": {},
   "outputs": [
    {
     "name": "stdout",
     "output_type": "stream",
     "text": [
      "['Interesting facts about the Moon', \" The Moon is Earth's only satellite\", ' There are several interesting facts about the Moon and how it affects life here on Earth', ' On average, the Moon moves 4cm away from the Earth every year', ' This yearly drift is not significant enough to cause immediate effects on Earth', ' The highest daylight temperature of the Moon is 127 C', '']\n"
     ]
    }
   ],
   "source": [
    "oraciones=text.split('.') #Divide el texto en cada punto\n",
    "print(oraciones)"
   ]
  },
  {
   "cell_type": "markdown",
   "metadata": {},
   "source": [
    "Ahora, define algunas palabras clave para búsqueda que te ayudarán a determinar si una oración contiene un hecho.\n",
    "Crea un bucle para imprimir solo datos sobre la Luna que estén relacionados con las palabras clave definidas anteriormente. \n",
    "Finalmente, actualiza el bucle(ciclo) para cambiar C a Celsius:"
   ]
  },
  {
   "cell_type": "code",
   "execution_count": 34,
   "metadata": {},
   "outputs": [
    {
     "name": "stdout",
     "output_type": "stream",
     "text": [
      " The Moon is Earth's only satellite\n",
      " On average, the Moon moves 4cm away from the Earth every year\n",
      " This yearly drift is not significant enough to cause immediate effects on Earth\n",
      " The highest daylight temperature of the Moon is 127 Celsius\n"
     ]
    }
   ],
   "source": [
    "palabras = ['is','average','is not','temperature']  #Crea lista con las palabras clave\n",
    "\n",
    "# Ciclo for para recorrer la cadena\n",
    "for oracion in oraciones:   #Por cada Oracion en la lista de Oraciones\n",
    "    for palabra in palabras:    #Por cada Palabra en la lista de Palabras\n",
    "        if palabra in oracion:  #Si existe la Palabra en la Oracion, entonces...\n",
    "            print(oracion.replace('C','Celsius'))   #...imprime la oracion, pero reemplaza la C con Celsius\n",
    "            break"
   ]
  },
  {
   "cell_type": "markdown",
   "metadata": {},
   "source": [
    "## Ejercicio 2: Formateando Cadenas\n",
    "Saber cómo dar formato a las cadenas es esencial cuando se presenta información de un programa. Hay algunas maneras diferentes de lograr esto en Python. En este ejercicio, se utilizan variables que contienen datos clave sobre la gravedad en varias lunas y luego se utilizan para dar formato e imprimir la información.\n",
    "\n",
    "El formato tiene que acomodar información sobre otras lunas, por lo que debe ser genérico.\n",
    "\n",
    "En lugar de reemplazar las variables en una cadena larga como parte de un párrafo, utiliza la información para presentarla en un formato tabular. "
   ]
  },
  {
   "cell_type": "code",
   "execution_count": 35,
   "metadata": {},
   "outputs": [
    {
     "name": "stdout",
     "output_type": "stream",
     "text": [
      "Datos Sobre La Gravedad En: Moon\n",
      "--------------------------------------------------\n",
      "Nombre del planeta de la luna: Earth\n",
      "Gravedad en la luna Moon:1.6199999999999999 metros/seg\n",
      "\n",
      "Datos Sobre La Gravedad: Moon\n",
      "**************************************************\n",
      "Nombre del planeta de la luna=Earth\n",
      "Gravedad en la luna Moon=1.6199999999999999 metros/seg\n",
      "\n",
      "Datos Sobre La Gravedad En: Ganymede\n",
      "--------------------------------------------------\n",
      "Nombre del planeta de la luna: Mars\n",
      "Gravedad en la luna Ganymede:1.4300000000000002 metros/seg\n",
      "\n",
      "Datos Sobre La Gravedad En: Ganymede\n",
      "**************************************************\n",
      "Nombre del planeta de la luna=Mars\n",
      "Gravedad en la luna Ganymede=1.4300000000000002 metros/seg\n"
     ]
    }
   ],
   "source": [
    "# Datos con los que vas a trabajar\n",
    "name = \"Moon\"\n",
    "gravity = 0.00162 # in kms\n",
    "planet = \"Earth\"\n",
    "\n",
    "#Plantilla usando cadenas f\n",
    "tituloF=(f'Datos sobre la gravedad en: {name}')\n",
    "textoF=f\"\"\"{'-'*50}\n",
    "Nombre del planeta de la luna: {planet}\n",
    "Gravedad en la luna {name}:{gravity*1000} metros/seg\n",
    "\"\"\"\n",
    "plantillaF=f'{tituloF.title()}\\n{textoF}'\n",
    "print(plantillaF)\n",
    "\n",
    "#Plantilla usando .format\n",
    "tituloformat=\"Datos sobre la gravedad: {moon}\".format(moon=name)\n",
    "textoformat=\"\"\"{separador}\n",
    "Nombre del planeta de la luna={planeta}\n",
    "Gravedad en la luna {moon}={g} metros/seg\n",
    "\"\"\".format(separador='*'*50,planeta=planet,g=gravity*1000,moon=name)\n",
    "plantillaformat=\"{title}\\n{info}\".format(title=tituloformat.title(),info=textoformat)\n",
    "print(plantillaformat)\n",
    "\n",
    "# Nuevos datos\n",
    "name = \"Ganymede\"\n",
    "gravity = 0.00143 # in kms\n",
    "planet = \"Mars\"\n",
    "\n",
    "#Plantilla usando cadenas f\n",
    "tituloF=(f'Datos sobre la gravedad en: {name}')\n",
    "textoF=f\"\"\"{'-'*50}\n",
    "Nombre del planeta de la luna: {planet}\n",
    "Gravedad en la luna {name}:{gravity*1000} metros/seg\n",
    "\"\"\"\n",
    "plantillaF=f'{tituloF.title()}\\n{textoF}'\n",
    "print(plantillaF)\n",
    "\n",
    "#Plantilla usando .format\n",
    "tituloformat=\"Datos sobre la gravedad en: {moon}\".format(moon=name)\n",
    "textoformat=\"\"\"{separador}\n",
    "Nombre del planeta de la luna={planeta}\n",
    "Gravedad en la luna {moon}={g} metros/seg\"\"\".format(separador='*'*50,planeta=planet,g=gravity*1000,moon=name)\n",
    "plantillaformat=\"{title}\\n{info}\".format(title=tituloformat.title(),info=textoformat)\n",
    "print(plantillaformat)"
   ]
  }
 ],
 "metadata": {
  "interpreter": {
   "hash": "164e0a39c0997ac06d7f882b8b725b39c1250014dc677040356b62b0511af8db"
  },
  "kernelspec": {
   "display_name": "Python 3.10.2 64-bit (windows store)",
   "language": "python",
   "name": "python3"
  },
  "language_info": {
   "codemirror_mode": {
    "name": "ipython",
    "version": 3
   },
   "file_extension": ".py",
   "mimetype": "text/x-python",
   "name": "python",
   "nbconvert_exporter": "python",
   "pygments_lexer": "ipython3",
   "version": "3.10.2"
  },
  "orig_nbformat": 4
 },
 "nbformat": 4,
 "nbformat_minor": 2
}
