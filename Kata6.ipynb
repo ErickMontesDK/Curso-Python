{
 "cells": [
  {
   "cell_type": "markdown",
   "metadata": {},
   "source": [
    "#  Kata 6\n",
    "## Ejercicio1: Crear y usar listas de Python\n",
    "#### Ejercicio: Usar listas para almacenar nombres de planetas\n",
    "\n",
    "En primer lugar, crea una variable denominada planets. Agrega los ocho planetas (sin Plutón) a la lista. A continuación, muestra el número de planetas."
   ]
  },
  {
   "cell_type": "code",
   "execution_count": 4,
   "metadata": {},
   "outputs": [
    {
     "name": "stdout",
     "output_type": "stream",
     "text": [
      "Mercurio ,  Venus ,  Tierra ,  Marte ,  Jupiter ,  Saturno ,  Urano  y  Neptuno\n"
     ]
    }
   ],
   "source": [
    "Planetas=['Mercurio', 'Venus', 'Tierra', 'Marte', 'Jupiter', 'Saturno', 'Urano', 'Neptuno'] #Lista con planetas\n",
    "#Imprime cada valor de la lista\n",
    "#Se podría imprimir con un ciclo For PEEEERO queria imprimirlo en una sola oración juntita\n",
    "print(Planetas[0],', ', Planetas[1],', ', Planetas[2],', ', Planetas[3],', ', Planetas[4],', ', Planetas[5],', ', Planetas[6],' y ', Planetas[7])"
   ]
  },
  {
   "cell_type": "code",
   "execution_count": 3,
   "metadata": {},
   "outputs": [
    {
     "name": "stdout",
     "output_type": "stream",
     "text": [
      "El sistema solar tiene un total de 9 planetas, siendo el ultimo y más lejano al sol el planeta Pluton\n"
     ]
    }
   ],
   "source": [
    "Planetas.append('Pluton') #e agrega el valor de Pluton\n",
    "print(f'El sistema solar tiene un total de {len(Planetas)} planetas, siendo el ultimo y más lejano al sol el planeta {Planetas[-1]}')"
   ]
  },
  {
   "cell_type": "markdown",
   "metadata": {},
   "source": [
    "## Ejercicio 2: Trabajando con datos de una lista\n",
    "#### Usar slices para recuperar partes de una lista\n",
    "Es posible que debas trabajar con diferentes secciones de una lista. En nuestro ejemplo, queremos mostrar planetas más cerca y más lejos del sol de un planeta que el usuario ingresa por teclado.\n",
    "\n",
    "Comienza agregando el código para crear una lista con los planetas."
   ]
  },
  {
   "cell_type": "code",
   "execution_count": 2,
   "metadata": {},
   "outputs": [
    {
     "name": "stdout",
     "output_type": "stream",
     "text": [
      "['Mercurio', 'Venus', 'Tierra', 'Marte', 'Jupiter', 'Saturno', 'Urano', 'Neptuno']\n"
     ]
    }
   ],
   "source": [
    "Planetas=['Mercurio', 'Venus', 'Tierra', 'Marte', 'Jupiter', 'Saturno', 'Urano', 'Neptuno']\n",
    "print(Planetas)"
   ]
  },
  {
   "cell_type": "markdown",
   "metadata": {},
   "source": [
    "#### Solicita al usuario el nombre de un planeta\n",
    "A continuación, agrega el código para solicitar al usuario un nombre. Debido a que las cadenas distinguen entre mayúsculas y minúsculas en Python, pídale al usuario que use una letra mayúscula para comenzar el nombre del planeta."
   ]
  },
  {
   "cell_type": "code",
   "execution_count": 6,
   "metadata": {},
   "outputs": [],
   "source": [
    "request=input('Estimado usuario, escriba el nombre de un planeta en este sistema, empezando con mayuscula y el resto en minusculas')"
   ]
  },
  {
   "cell_type": "markdown",
   "metadata": {},
   "source": [
    "#### Encuentra el planeta en la lista\n",
    "Para determinar qué planetas están más cerca que el que ingresó el usuario, debes encontrar dónde está el planeta en la lista. Puedes utilizar index para realizar esta operación. Agrega el código para encontrar el índice del planeta."
   ]
  },
  {
   "cell_type": "code",
   "execution_count": 7,
   "metadata": {},
   "outputs": [
    {
     "name": "stdout",
     "output_type": "stream",
     "text": [
      "4\n"
     ]
    }
   ],
   "source": [
    "numero=Planetas.index(request) #Busca la ubicación del planeta ingresado por el usuario\n",
    "print(numero)   #Imprime el numero"
   ]
  },
  {
   "cell_type": "markdown",
   "metadata": {},
   "source": [
    "#### Mostrar planetas más cercanos al sol que el que el usuario ingresó\n",
    "Con el índice determinado, ahora puedes agregar el código para mostrar los planetas más cercanos al sol."
   ]
  },
  {
   "cell_type": "code",
   "execution_count": 10,
   "metadata": {},
   "outputs": [
    {
     "name": "stdout",
     "output_type": "stream",
     "text": [
      "Los planetas  ['Mercurio', 'Venus', 'Tierra', 'Marte']  estan mas cercanos al sol que el planeta  Jupiter\n"
     ]
    }
   ],
   "source": [
    "print('Los planetas ', Planetas[0:numero],' estan mas cercanos al sol que el planeta ',request)"
   ]
  },
  {
   "cell_type": "markdown",
   "metadata": {},
   "source": [
    "#### Mostrar planetas más alejados del sol que el que el usuario ingresó\n",
    "Puedes usar el mismo índice para mostrar planetas más alejados del sol. Sin embargo, recuerda que el índice inicial se incluye cuando usas un slice. Como resultado, tendrás que agregar 1 al valor. Agrega el código para mostrar los planetas más alejados del sol."
   ]
  },
  {
   "cell_type": "code",
   "execution_count": 12,
   "metadata": {},
   "outputs": [
    {
     "name": "stdout",
     "output_type": "stream",
     "text": [
      "Por el contrario, los planetas  ['Saturno', 'Urano', 'Neptuno']  se encuentran más alejados que el planeta  Jupiter\n"
     ]
    }
   ],
   "source": [
    "print('Por el contrario, los planetas ', Planetas[numero+1:],' se encuentran más alejados que el planeta ',request)"
   ]
  },
  {
   "cell_type": "markdown",
   "metadata": {},
   "source": [
    "## Practica propia\n",
    "Como parte de practica, la Kata fue rehecha de forma que fuera algo más compleja, de forma que se pueda sacar mas provecho de ella"
   ]
  },
  {
   "cell_type": "code",
   "execution_count": 11,
   "metadata": {},
   "outputs": [
    {
     "name": "stdout",
     "output_type": "stream",
     "text": [
      "Nuestro sistema solar esta conformado por los siguientes 8 planetas\n",
      "mercurio\n",
      "venus\n",
      "tierra\n",
      "marte\n",
      "jupiter\n",
      "saturno\n",
      "urano\n",
      "neptuno\n",
      "Los planetas más cercanos al sol que Saturno son ['mercurio', 'venus', 'tierra', 'marte', 'jupiter'].\n",
      "Por el contrario, los mas lejanos son ['saturno', 'urano', 'neptuno']\n"
     ]
    }
   ],
   "source": [
    "'Programa para conocer el sistema solar'.title()\n",
    "\n",
    "#Datos\n",
    "Planetas=['mercurio', 'venus', 'tierra', 'marte', 'jupiter', 'saturno', 'urano', 'neptuno']\n",
    "nPlanets=str(len(Planetas)) #Tamaño de lista\n",
    "\n",
    "print('Nuestro sistema solar esta conformado por los siguientes %s planetas'% nPlanets)\n",
    "for planet in Planetas:\n",
    "    print(planet)\n",
    "\n",
    "#Uniformiza la peticion del usuario\n",
    "peticion=input('Ingrese el nombre de un planeta')\n",
    "peticion=peticion.lower()\n",
    "peticion=peticion.replace('á','a')\n",
    "peticion=peticion.replace('e','e')\n",
    "peticion=peticion.replace('í','i')\n",
    "peticion=peticion.replace('ó','o')\n",
    "peticion=peticion.replace('ú','u')\n",
    "\n",
    "#Busca la ubicación del planeta ingresado\n",
    "num=Planetas.index(peticion) \n",
    "\n",
    "#Imprime la información \n",
    "print(f\"\"\"Los planetas más cercanos al sol que {peticion.title()} son {Planetas[0:num]}.\n",
    "Por el contrario, los mas lejanos son {Planetas[num:]}\"\"\")\n"
   ]
  }
 ],
 "metadata": {
  "interpreter": {
   "hash": "164e0a39c0997ac06d7f882b8b725b39c1250014dc677040356b62b0511af8db"
  },
  "kernelspec": {
   "display_name": "Python 3.10.2 64-bit (windows store)",
   "language": "python",
   "name": "python3"
  },
  "language_info": {
   "codemirror_mode": {
    "name": "ipython",
    "version": 3
   },
   "file_extension": ".py",
   "mimetype": "text/x-python",
   "name": "python",
   "nbconvert_exporter": "python",
   "pygments_lexer": "ipython3",
   "version": "3.10.2"
  },
  "orig_nbformat": 4
 },
 "nbformat": 4,
 "nbformat_minor": 2
}
