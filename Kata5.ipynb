{
 "cells": [
  {
   "cell_type": "markdown",
   "metadata": {},
   "source": [
    "# Kata 5\n",
    "## Ejercicio1 - Utilizar operadores aritméticos\n",
    "#### Operadores aritméticos en Python\n",
    "Exploremos cómo podemos crear un programa que pueda calcular la distancia entre dos planetas. Comenzaremos usando dos distancias de planetas: Tierra (149.597.870 km) y Júpiter (778.547.200 km)."
   ]
  },
  {
   "cell_type": "code",
   "execution_count": 43,
   "metadata": {},
   "outputs": [],
   "source": [
    "dTierra=149597870 #distancia Tierra\n",
    "dJupiter=778547200 #distancia Jupiter"
   ]
  },
  {
   "cell_type": "markdown",
   "metadata": {},
   "source": [
    "### Realizar la operación\n",
    "Con los valores obtenidos, es el momento de añadir el código para realizar la operación. Restarás el primer planeta del segundo para determinar la distancia en kilómetros. A continuación, puedes convertir la distancia del kilómetro en millas multiplicándola por 1.609344."
   ]
  },
  {
   "cell_type": "code",
   "execution_count": 44,
   "metadata": {},
   "outputs": [
    {
     "name": "stdout",
     "output_type": "stream",
     "text": [
      "La distancia entre Jupiter y la Tierra es de 628949330 kms\n",
      "que es igual a 390810995.0389724 millas\n"
     ]
    }
   ],
   "source": [
    "dist=(dJupiter-dTierra) #Distancia Jupiter menos Tierra\n",
    "print(f'La distancia entre Jupiter y la Tierra es de {dist} kms\\nque es igual a {dist/1.609344} millas')"
   ]
  },
  {
   "cell_type": "markdown",
   "metadata": {},
   "source": [
    "## Ejercicio 2: convierte cadenas en números y usa valores absolutos\n",
    "#### Crear una aplicación para trabajar con números y entrada de usuario\n",
    "Con frecuencia, deberás convertir los valores de cadena en números para realizar correctamente diferentes operaciones o determinar el valor absoluto de un número.\n",
    "\n",
    "Para crear nuestra aplicación, queremos leer la distancia del sol para dos planetas, y luego mostrar la distancia entre los planetas. Haremos esto usando input para leer los valores, int para convertir a entero y luego abs para convertir el resultado en su valor absoluto.\n",
    "\n",
    "Lee los valores\n",
    "\n",
    "Usando input, agrega el código para leer la distancia del sol para cada planeta, considerando 2 planetas."
   ]
  },
  {
   "cell_type": "code",
   "execution_count": 45,
   "metadata": {},
   "outputs": [],
   "source": [
    "Firstplanet=input('Distancia del primer planeta al sol en Km') \n",
    "Secondplanet=input('Distancia del segundo planeta al sol en Km')"
   ]
  },
  {
   "cell_type": "markdown",
   "metadata": {},
   "source": [
    "### Convertir a número\n",
    "Debido a que input devuelve valores de cadena, necesitamos convertirlos en números. Para nuestro ejemplo, usaremos int"
   ]
  },
  {
   "cell_type": "code",
   "execution_count": 46,
   "metadata": {},
   "outputs": [],
   "source": [
    "#Convierte ambos valores a numeros enteros \n",
    "Fplanet=int(Firstplanet) \n",
    "Splanet=int(Secondplanet)"
   ]
  },
  {
   "cell_type": "markdown",
   "metadata": {},
   "source": [
    "### Realizar el cálculo y convertir a valor absoluto\n",
    "Con los valores almacenados como números, ahora puedes agregar el código para realizar el cálculo, restando el primer planeta del segundo. Debido a que el segundo planeta podría ser un número mayor, usarás abs para convertirlo a un valor absoluto. También agregarás el código para mostrar el resultado en millas multiplicando la distancia del kilómetro por 0.621"
   ]
  },
  {
   "cell_type": "code",
   "execution_count": 47,
   "metadata": {},
   "outputs": [
    {
     "name": "stdout",
     "output_type": "stream",
     "text": [
      "La distancia entre el primer planeta y el segundo es 1987 km\n",
      "que es igual a  1233.927 en millas\n"
     ]
    }
   ],
   "source": [
    "DistanciaK=(abs(Fplanet-Splanet)) #Resta ambas distancias y convierte a absoluto por si sale en negativo\n",
    "DistanciaM=DistanciaK*0.621 #Convierte km a millas\n",
    "print(f'La distancia entre el primer planeta y el segundo es {DistanciaK} km\\nque es igual a  {DistanciaM} en millas')\n"
   ]
  },
  {
   "cell_type": "markdown",
   "metadata": {},
   "source": [
    "## Practica propia\n",
    "Como parte de practica, la Kata fue rehecha de forma que fuera algo más compleja, de forma que se pueda sacar mas provecho de ella"
   ]
  },
  {
   "cell_type": "code",
   "execution_count": 42,
   "metadata": {},
   "outputs": [
    {
     "name": "stdout",
     "output_type": "stream",
     "text": [
      "La distancia de Mercurio al sol es de 57.91\n",
      "La distancia de Tierra al sol es de 149.6\n",
      "La distancia entre los planetas Mercurio y el planeta Tierra \n",
      "es de 91.69 millones de km, o bien, 147.554 millas\n"
     ]
    }
   ],
   "source": [
    "#Informacion de cada planeta\n",
    "#Aún no conocia los diccionarios, así que se usan con el mismo principio de asignar un valor a una clave\n",
    "planetas=['mercurio','venus','tierra','marte','jupiter','saturno','urano','neptuno','pluton']\n",
    "distancia=[57.91,108.2,149.6,227.9,778.5,1434,2871,4495,5913.52]\n",
    "\n",
    "\n",
    "#Input del usuario y uniformiza la información \n",
    "peticion=input('Introduzca el nombre de los dos planetas cuya distancia quiere saber, separado con coma \"-\" sin espacio')\n",
    "peticion=peticion.lower()\n",
    "peticion=peticion.replace('á','a')\n",
    "peticion=peticion.replace('e','e')\n",
    "peticion=peticion.replace('í','i')\n",
    "peticion=peticion.replace('ó','o')\n",
    "peticion=peticion.replace('ú','u')\n",
    "\n",
    "#Definir los dos planetas\n",
    "variables=peticion.split('-')\n",
    "\n",
    "planeta1=variables[0]\n",
    "planeta2=variables[1]\n",
    "\n",
    "#Bucle para definir que planetas se ingresaron y la distancia correspondiente\n",
    "for planeta in planetas:    #Para cada planeta en la lista de planetas\n",
    "    if planeta1 in planeta:     #Si el primer planeta ingresado esta en la lista de planetas\n",
    "        distancia1=distancia[planetas.index(planeta)]   #la primer distancia es el mismo numero de elemento en la lista, que el planeta en la lista de planetas\n",
    "        print(f'La distancia de {planeta1.title()} al sol es de {distancia1}')\n",
    "    if planeta2 in planeta:     #Mismo planteamiento con el segundo planeta ingresado\n",
    "        distancia2=distancia[planetas.index(planeta)]\n",
    "        print(f'La distancia de {planeta2.title()} al sol es de {distancia2}')\n",
    "#Easter egg si ingresas Pluton como planeta        \n",
    "    if planeta1=='pluton': \n",
    "        easter1='(aunque Pluton no sea ya un planeta pero te perdonaré el error) '\n",
    "    else:\n",
    "        easter1=''\n",
    "    if planeta2=='pluton':\n",
    "        easter2='(aunque no sea un planeta pero bueno) '\n",
    "    else:\n",
    "        easter2=''\n",
    "\n",
    "#Calculo de distancia entre planetas\n",
    "difdist=abs(distancia1-distancia2)\n",
    "#Easter egg si la distancia entre planetas es 0\n",
    "if difdist==0:\n",
    "    message=\"\"\", ¡y ya que da CERO!, o me hiciste buscar el mismo planeta dos veces\n",
    "o bien, los dos planetas chocaron arrojando multiples restos en la via lactea,\n",
    "y por tu bien, espero y sea lo primero\"\"\"\n",
    "else:\n",
    "    message=''\n",
    "\n",
    "#Mensaje final del programa\n",
    "print(f\"\"\"La distancia entre los planetas {planeta1.title()} {easter1}y el planeta {planeta2.title()} {easter2}\n",
    "es de {difdist} millones de km, o bien, {round(difdist/0.6214,3)} millas{message}\"\"\" )"
   ]
  }
 ],
 "metadata": {
  "interpreter": {
   "hash": "164e0a39c0997ac06d7f882b8b725b39c1250014dc677040356b62b0511af8db"
  },
  "kernelspec": {
   "display_name": "Python 3.10.2 64-bit (windows store)",
   "language": "python",
   "name": "python3"
  },
  "language_info": {
   "codemirror_mode": {
    "name": "ipython",
    "version": 3
   },
   "file_extension": ".py",
   "mimetype": "text/x-python",
   "name": "python",
   "nbconvert_exporter": "python",
   "pygments_lexer": "ipython3",
   "version": "3.10.2"
  },
  "orig_nbformat": 4
 },
 "nbformat": 4,
 "nbformat_minor": 2
}
