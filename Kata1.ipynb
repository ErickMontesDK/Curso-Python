{
 "cells": [
  {
   "cell_type": "markdown",
   "metadata": {},
   "source": [
    "# Tu primer programa"
   ]
  },
  {
   "cell_type": "code",
   "execution_count": null,
   "metadata": {},
   "outputs": [],
   "source": [
    "from datetime import date #importa el valor de la fecha\n",
    "fecha=date.today()      #pone en variable la fecha de hoy\n",
    "\n",
    "print(\"Hola, hoy es el día \"+ str(fecha))"
   ]
  },
  {
   "cell_type": "markdown",
   "metadata": {},
   "source": [
    "# Construir un convertidor de unidades"
   ]
  },
  {
   "cell_type": "code",
   "execution_count": 1,
   "metadata": {},
   "outputs": [
    {
     "name": "stdout",
     "output_type": "stream",
     "text": [
      "51 parsec, es igual a 166.33955999999998 años luz\n"
     ]
    }
   ],
   "source": [
    "parsec = input(\"Introduce cuantos Parsecs queres convertir\")\n",
    "lightyears = float(parsec)*3.26156  #convierte en float el valor introducido en el input\n",
    "\n",
    "print(str(parsec) + \" parsec, es igual a \" + str(lightyears) + \" años luz\") #convierte el float a texto, o str"
   ]
  },
  {
   "cell_type": "markdown",
   "metadata": {},
   "source": []
  }
 ],
 "metadata": {
  "interpreter": {
   "hash": "90f0c5830ef4cfe095c79c63a470726a790a0e8269691f1ab143792a22a74c89"
  },
  "kernelspec": {
   "display_name": "Python 3.10.2 64-bit",
   "language": "python",
   "name": "python3"
  },
  "language_info": {
   "codemirror_mode": {
    "name": "ipython",
    "version": 3
   },
   "file_extension": ".py",
   "mimetype": "text/x-python",
   "name": "python",
   "nbconvert_exporter": "python",
   "pygments_lexer": "ipython3",
   "version": "3.10.2"
  },
  "orig_nbformat": 4
 },
 "nbformat": 4,
 "nbformat_minor": 2
}
