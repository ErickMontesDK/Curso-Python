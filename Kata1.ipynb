{
 "cells": [
  {
   "cell_type": "markdown",
   "metadata": {},
   "source": [
    "# Kata 1 \n",
    "## Tu primer programa\n",
    "\n",
    "Oficial superior> \"¿Cadete?\"\n",
    "\n",
    "Usted > \"¿Sí, señora?\"\n",
    "\n",
    "Oficial superior> \"¿Puedes construir un programa que me muestre la fecha? La computadora del barco no venía con mucho en términos de programas de utilidad, por lo que necesitamos crear los que necesitamos. ¿Puedo confiar en ti con esto?\"\n",
    "\n",
    "Usted > \"Considéralo hecho\".\n",
    "\n",
    "Oficial superior> \"Excelente\".\n",
    "\n",
    "Usarás Jupyter Notebook en este ejercicio, que es una combinación de texto y código con la que puede interactuar. Finaliza el código siguiente para que el resultado muestre la fecha de hoy."
   ]
  },
  {
   "cell_type": "code",
   "execution_count": 2,
   "metadata": {},
   "outputs": [
    {
     "name": "stdout",
     "output_type": "stream",
     "text": [
      "Hola, hoy es el día 2022-02-09\n"
     ]
    }
   ],
   "source": [
    "from datetime import date #Importa el valor de la fecha\n",
    "fecha=date.today()      #Pone en variable la fecha de hoy\n",
    "\n",
    "print(\"Hola, hoy es el día \"+ str(fecha))"
   ]
  },
  {
   "cell_type": "markdown",
   "metadata": {},
   "source": [
    "## Construir un convertidor de unidades\n",
    "\n",
    "El oficial superior> \"Necesito una cosa más: un programa de conversión entre parsecs y años luz. Tener un programa de este tipo podría ser realmente útil en el puente para trazar nuestro curso\".\n",
    "\n",
    "Tú> \"¡Lo haré!\""
   ]
  },
  {
   "cell_type": "code",
   "execution_count": 1,
   "metadata": {},
   "outputs": [
    {
     "name": "stdout",
     "output_type": "stream",
     "text": [
      "51 parsec, es igual a 166.33955999999998 años luz\n"
     ]
    }
   ],
   "source": [
    "parsec = input(\"Introduce cuantos Parsecs queres convertir\")\n",
    "#convierte en float el valor introducido en el input y lo multiplica por el valor de 3.26156 años luz por parsec\n",
    "lightyears = float(parsec)*3.26156  \n",
    "\n",
    "\n",
    "print(str(parsec) + \" parsec, es igual a \" + str(lightyears) + \" años luz\") #convierte el valor float a texto, o str"
   ]
  }
 ],
 "metadata": {
  "interpreter": {
   "hash": "90f0c5830ef4cfe095c79c63a470726a790a0e8269691f1ab143792a22a74c89"
  },
  "kernelspec": {
   "display_name": "Python 3.10.2 64-bit",
   "language": "python",
   "name": "python3"
  },
  "language_info": {
   "codemirror_mode": {
    "name": "ipython",
    "version": 3
   },
   "file_extension": ".py",
   "mimetype": "text/x-python",
   "name": "python",
   "nbconvert_exporter": "python",
   "pygments_lexer": "ipython3",
   "version": "3.10.2"
  },
  "orig_nbformat": 4
 },
 "nbformat": 4,
 "nbformat_minor": 2
}
