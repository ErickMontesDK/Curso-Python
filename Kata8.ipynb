{
 "cells": [
  {
   "cell_type": "markdown",
   "metadata": {},
   "source": [
    "# Kata 8\n",
    "## Ejercicio 1: Creación de diccionarios de Python\n",
    "#### Ejercicio: Crear y modificar un diccionario de Python\n",
    "\n",
    "Para este ejercicio, crearás un diccionario que almacene información sobre el planeta Marte.\n",
    "Agrega el código para crear un nuevo diccionario denominado 'planet'. Rellena con la siguiente información:"
   ]
  },
  {
   "cell_type": "code",
   "execution_count": 1,
   "metadata": {},
   "outputs": [],
   "source": [
    "planet={'name':'Mars','moons':2} #Crea diccionario de Marte y sus lunas"
   ]
  },
  {
   "cell_type": "markdown",
   "metadata": {},
   "source": [
    "Para recuperar valores, puede utilizar el método get o corchetes ([ ]) con el nombre de la clave que desea recuperar."
   ]
  },
  {
   "cell_type": "code",
   "execution_count": 2,
   "metadata": {},
   "outputs": [
    {
     "name": "stdout",
     "output_type": "stream",
     "text": [
      "Mars , 2\n",
      "Mars , 2\n"
     ]
    }
   ],
   "source": [
    "#Imprime los valores asignados a cada clave\n",
    "print(planet['name'],',',planet['moons'])\n",
    "print(planet.get('name'),',',planet.get('moons'))\n"
   ]
  },
  {
   "cell_type": "markdown",
   "metadata": {},
   "source": [
    "Puedes actualizar las claves existentes o crear otras nuevas utilizando el método update o entre corchetes ([ ]). Cuando se usa update, se pasa un nuevo objeto de diccionario con los valores actualizados o nuevos. Cuando se usan corchetes, se especifica el nombre de la clave y se asigna un nuevo valor.\n",
    "\n",
    "    demo['new_key'] = 'New value'\n",
    "Agrega un nuevo valor con una clave de 'circunferencia (km)'. Este nuevo valor debería almacenar un diccionario con las dos circunferencias del planeta:\n",
    "\n",
    "polar: 6752\n",
    "equatorial: 6792"
   ]
  },
  {
   "cell_type": "code",
   "execution_count": 5,
   "metadata": {},
   "outputs": [
    {
     "name": "stdout",
     "output_type": "stream",
     "text": [
      "{'polar': 6752, 'equatorial': 6792}\n"
     ]
    }
   ],
   "source": [
    "circunferencias={'polar':6752,'equatorial':6792} #Diccionario con la circunferencia del planeta\n",
    "\n",
    "planet['circunferencias (km)']=circunferencias  #Agrega el diccionario de circunferencia al primer diccionario\n",
    "print(planet['circunferencias (km)'])"
   ]
  },
  {
   "cell_type": "markdown",
   "metadata": {},
   "source": [
    "Imprime el nombre del planeta con su circunferencia polar."
   ]
  },
  {
   "cell_type": "code",
   "execution_count": 9,
   "metadata": {},
   "outputs": [
    {
     "name": "stdout",
     "output_type": "stream",
     "text": [
      "Planeta: Mars\n",
      "\n",
      "Circunferencias:\n",
      "==>Polar: 6752\n",
      "==>Equatorial:6792\n"
     ]
    }
   ],
   "source": [
    "#Imprime los valores almacenados en el diccionario\n",
    "print(\"\"\"Planeta: {0}\n",
    "\n",
    "Circunferencias:\n",
    "==>Polar: {2}\n",
    "==>Equatorial:{1}\"\"\".format(planet.get('name'),planet['circunferencias (km)']['equatorial'],planet['circunferencias (km)']['polar']))"
   ]
  },
  {
   "cell_type": "markdown",
   "metadata": {},
   "source": [
    "## Ejercicio 2: Programación dinámica con diccionarios\n",
    "### Ejercicio: Cálculo de valores\n",
    "En este escenario, calcularás tanto el número total de lunas en el sistema solar como el número promedio de lunas que tiene un planeta."
   ]
  },
  {
   "cell_type": "code",
   "execution_count": 10,
   "metadata": {},
   "outputs": [],
   "source": [
    "# Planets and moons\n",
    "#Diccionario con las lunas de cada planeta del sistema\n",
    "planet_moons = {\n",
    "    'mercury': 0,\n",
    "    'venus': 0,\n",
    "    'earth': 1,\n",
    "    'mars': 2,\n",
    "    'jupiter': 79,\n",
    "    'saturn': 82,\n",
    "    'uranus': 27,\n",
    "    'neptune': 14,\n",
    "    'pluto': 5,\n",
    "    'haumea': 2,\n",
    "    'makemake': 1,\n",
    "    'eris': 1\n",
    "}"
   ]
  },
  {
   "cell_type": "markdown",
   "metadata": {},
   "source": [
    "Agrega el código a continuación para determinar el número de lunas. Comienza almacenando el valor values de planet_moons en una variable denominada moons. A continuación, almacena el número de planetas en una variable denominada planets."
   ]
  },
  {
   "cell_type": "code",
   "execution_count": 19,
   "metadata": {},
   "outputs": [
    {
     "name": "stdout",
     "output_type": "stream",
     "text": [
      "dict_values([0, 0, 1, 2, 79, 82, 27, 14, 5, 2, 1, 1])\n",
      "12\n"
     ]
    }
   ],
   "source": [
    "moons=planet_moons.values() #Solo los valores de la cantidad de lunas\n",
    "planets=len(planet_moons.keys()) #Cantidad de planetas en la lista\n",
    "print(moons) \n",
    "print(planets)"
   ]
  },
  {
   "cell_type": "markdown",
   "metadata": {},
   "source": [
    "Agrega el código para contar el número de lunas. Puedes hacerlo creando un ciclo for para iterar a través de las lunas moons y agregándolos a una variable denominada total_moons. Finalmente calcule el promedio dividiendo total_moons por planets e imprimiendo los resultados."
   ]
  },
  {
   "cell_type": "code",
   "execution_count": 22,
   "metadata": {},
   "outputs": [
    {
     "name": "stdout",
     "output_type": "stream",
     "text": [
      "214\n",
      "214\n",
      "El promedio de lunas por planeta es de: 17.833\n"
     ]
    }
   ],
   "source": [
    "total_moons=0 #Crea variable de cantidad de lunas\n",
    "print(sum(moons)) #Suma todas las lunas\n",
    "#Suma todas las lunas pero con un ciclo for\n",
    "for number in moons:    #Por cada numero en la lista de valores de lunas\n",
    "    total_moons=total_moons+number  #Suma el numero de lunas y las suma con el anterior\n",
    "print(total_moons)  #Imprime el total de lunas\n",
    "#Muestra el promedio de lunas por planeta\n",
    "print('El promedio de lunas por planeta es de: %s'% round((total_moons/planets),3))"
   ]
  }
 ],
 "metadata": {
  "interpreter": {
   "hash": "164e0a39c0997ac06d7f882b8b725b39c1250014dc677040356b62b0511af8db"
  },
  "kernelspec": {
   "display_name": "Python 3.10.2 64-bit (windows store)",
   "language": "python",
   "name": "python3"
  },
  "language_info": {
   "codemirror_mode": {
    "name": "ipython",
    "version": 3
   },
   "file_extension": ".py",
   "mimetype": "text/x-python",
   "name": "python",
   "nbconvert_exporter": "python",
   "pygments_lexer": "ipython3",
   "version": "3.10.2"
  },
  "orig_nbformat": 4
 },
 "nbformat": 4,
 "nbformat_minor": 2
}
