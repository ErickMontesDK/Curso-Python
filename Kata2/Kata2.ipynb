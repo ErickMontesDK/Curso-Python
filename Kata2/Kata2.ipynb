{
 "cells": [
  {
   "cell_type": "markdown",
   "metadata": {},
   "source": [
    "# Kata 2\n",
    "\n",
    "## Crear un entorno virtual\n",
    "Primeramente, se abrió la terminal del sistema CMD y se accedió a la carpeta donde se encuentra la practica"
   ]
  },
  {
   "cell_type": "markdown",
   "metadata": {},
   "source": [
    "<img src=\"Capturas/1.JPG\"/>"
   ]
  },
  {
   "cell_type": "markdown",
   "metadata": {},
   "source": [
    "Para crear el entorno, se ingresó el comando **-m venv env**"
   ]
  },
  {
   "cell_type": "markdown",
   "metadata": {},
   "source": [
    "<img src=\"Capturas/2.JPG\"/>"
   ]
  },
  {
   "cell_type": "markdown",
   "metadata": {},
   "source": [
    "Se terminaron generando la carpeta env, y dentro de ella, se hicieron las siguientes carpetas: **include, Lib, Scripts y el archivo pyvenv.cfg**"
   ]
  },
  {
   "cell_type": "markdown",
   "metadata": {},
   "source": [
    "Para activar el entorno virtual, se ingresó a la carpeta Scripts y se activa escribiendo activate en la terminal"
   ]
  },
  {
   "cell_type": "markdown",
   "metadata": {},
   "source": [
    "<img src=\"Capturas/3.JPG\"/>"
   ]
  },
  {
   "cell_type": "markdown",
   "metadata": {},
   "source": [
    "Al ver (env) en la parte izquierda, se puede ver que se activo el entorno correctamente.\n",
    "\n",
    "## Instalar una biblioteca\n",
    "\n",
    "Ya dentro del entorno, se instala la librería de dateutil"
   ]
  },
  {
   "cell_type": "markdown",
   "metadata": {},
   "source": [
    "<img src=\"Capturas/4.JPG\"/>"
   ]
  },
  {
   "cell_type": "markdown",
   "metadata": {},
   "source": [
    "Mediante el comando **pip freeze** se puede observa que ya esta instalado"
   ]
  },
  {
   "cell_type": "markdown",
   "metadata": {},
   "source": [
    "<img src=\"Capturas/5.JPG\"/>"
   ]
  },
  {
   "cell_type": "markdown",
   "metadata": {},
   "source": [
    "#### Desactivar\n",
    "\n",
    "Para salir del entorno, solo se escribe deactivate y se puede ver que el simbolo (env) se quitó, por lo que  se salió del entorno correctamente"
   ]
  },
  {
   "cell_type": "markdown",
   "metadata": {},
   "source": [
    "<img src=\"Capturas/6.JPG\"/>"
   ]
  }
 ],
 "metadata": {
  "language_info": {
   "name": "python"
  },
  "orig_nbformat": 4
 },
 "nbformat": 4,
 "nbformat_minor": 2
}
