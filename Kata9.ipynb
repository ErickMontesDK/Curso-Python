{
 "cells": [
  {
   "cell_type": "markdown",
   "metadata": {},
   "source": [
    "# Kata 9\n",
    "## Ejercicio: Uso de funciones en Python\n",
    "\n",
    "#### Ejercicio 1: Trabajar con argumentos en funciones\n",
    "En este ejercicio, construirás un informe de combustible que requiere información de varias ubicaciones de combustible en todo el cohete.\n",
    "\n",
    "Comienza por crear una función que necesite tres lecturas de combustible y devuelva un informe:"
   ]
  },
  {
   "cell_type": "code",
   "execution_count": 12,
   "metadata": {},
   "outputs": [],
   "source": [
    "def lecturas(Porcentaje1,Porcentaje2,Porcentaje3):  #Función en base a 3 lecturas\n",
    "#Imprime las 3 lecturas\n",
    "    print(f\"\"\"Combustible primer tanque: {Porcentaje1}%\n",
    "Combustible segundo tanque: {Porcentaje2}%\n",
    "Combustible tercer tanque: {Porcentaje3}%\"\"\")\n",
    "    "
   ]
  },
  {
   "cell_type": "markdown",
   "metadata": {},
   "source": [
    "Ahora que hemos definido la función de informes, vamos a comprobarlo. Para esta misión, los tanques no están llenos:"
   ]
  },
  {
   "cell_type": "code",
   "execution_count": 13,
   "metadata": {},
   "outputs": [
    {
     "name": "stdout",
     "output_type": "stream",
     "text": [
      "Combustible primer tanque: 12%\n",
      "Combustible segundo tanque: 45%\n",
      "Combustible tercer tanque: 50%\n"
     ]
    }
   ],
   "source": [
    "lecturas(12,45,50) #Se evalua la función con 3 valores"
   ]
  },
  {
   "cell_type": "markdown",
   "metadata": {},
   "source": [
    "En lugar de simplemente crear el informe, la función también está calculando el promedio. Mejora la legibilidad extrayendo el cálculo promedio de la función en una nueva función para que el promedio se pueda hacer de forma independiente:"
   ]
  },
  {
   "cell_type": "code",
   "execution_count": 20,
   "metadata": {},
   "outputs": [],
   "source": [
    "def promedio(*args):    #Define una función en base a una lista \n",
    "    total=sum(args)/len(args)   #Suma el total de valores ingresados y los divide por cantidad de datos\n",
    "    return total #Regresa el promedio llamado total\n",
    "    "
   ]
  },
  {
   "cell_type": "markdown",
   "metadata": {},
   "source": [
    "Ahora actualiza la función de informes para llamando a la nueva función del promedio:"
   ]
  },
  {
   "cell_type": "code",
   "execution_count": 21,
   "metadata": {},
   "outputs": [],
   "source": [
    "def lecturas(Porcentaje1,Porcentaje2,Porcentaje3):  #Define nueva funcion que ocupa 3 valores\n",
    "     \n",
    "    Prom=promedio(Porcentaje1,Porcentaje2,Porcentaje3)  #Llama la funcion promedio para los valores ingresados en lecturas\n",
    "#Muestra el porcentaje por tanque y el promedio de carga total\n",
    "    print(f\"\"\"Combustible primer tanque: {Porcentaje1}%\n",
    "Combustible segundo tanque: {Porcentaje2}%\n",
    "Combustible tercer tanque: {Porcentaje3}%\n",
    "    \n",
    "Capacidad total: {Prom}% \"\"\")"
   ]
  },
  {
   "cell_type": "code",
   "execution_count": 22,
   "metadata": {},
   "outputs": [
    {
     "name": "stdout",
     "output_type": "stream",
     "text": [
      "Combustible primer tanque: 12%\n",
      "Combustible segundo tanque: 24%\n",
      "Combustible tercer tanque: 54%\n",
      "    \n",
      "Capacidad total: 30.0% \n"
     ]
    }
   ],
   "source": [
    "lecturas(12,24,54) "
   ]
  },
  {
   "cell_type": "markdown",
   "metadata": {},
   "source": [
    "## Ejercicio 2: Trabajo con argumentos de palabra clave\n",
    "#### Ejercicio : Trabajar con argumentos de palabras clave en funciones\n",
    "En este ejercicio, construirás un informe de cohete que requiere varias piezas de información, como el tiempo hasta el destino, el combustible a la izquierda y el nombre del destino. Comienza por crear una función que creará un informe preciso de la misión:"
   ]
  },
  {
   "cell_type": "code",
   "execution_count": 24,
   "metadata": {},
   "outputs": [],
   "source": [
    "def inform(prelaunch,flighttime,destine,extTank,intTank): #Define funcion con 5 valores\n",
    "#imprime los datos ingresados\n",
    "    print(f\"\"\"Tiempo de preparación: {prelaunch}\n",
    "    Tiempo de vuelo: {flighttime}\n",
    "    Total de viaje: {prelaunch+flighttime}\n",
    "    Destino: {destine}\n",
    "    Carga combustible externo: {extTank}\n",
    "    Carga combustible interno: {intTank}\n",
    "    Total de combustible: {extTank+intTank}\"\"\")\n"
   ]
  },
  {
   "cell_type": "code",
   "execution_count": 32,
   "metadata": {},
   "outputs": [],
   "source": [
    "def inform(destine,*stepstime,**fuel):  #Define la funcion con una variable, una lista y un diccionario\n",
    "#Imprime los datos ingresados\n",
    "    print(f\"\"\"Etapas de viaje: {len(stepstime)} \n",
    "    Tiempo total a bordo: {sum(stepstime)}\n",
    "\n",
    "    Destino: {destine}\n",
    "    \n",
    "    Capacidad total de combustibles: {fuel}\"\"\")\n"
   ]
  },
  {
   "cell_type": "code",
   "execution_count": 33,
   "metadata": {},
   "outputs": [
    {
     "name": "stdout",
     "output_type": "stream",
     "text": [
      "Etapas de viaje: 7\n",
      "    Tiempo total a bordo: (1, 2, 45, 34, 31, 531, 31)\n",
      "\n",
      "    Destino: Mars\n",
      "    \n",
      "    Capacidad total de combustibles: {'Interno': 42, 'Externo': 45, 'Repuesto': 42}\n"
     ]
    }
   ],
   "source": [
    "inform('Mars',1,2,45,34,31,531,31, Interno=42,Externo=45,Repuesto=42) #Se prueba la función"
   ]
  },
  {
   "cell_type": "markdown",
   "metadata": {},
   "source": [
    "## Practica propia\n",
    "Como parte de practica, la Kata fue rehecha de forma que fuera algo más compleja, de forma que se pueda sacar mas provecho de ella"
   ]
  },
  {
   "cell_type": "code",
   "execution_count": 129,
   "metadata": {},
   "outputs": [],
   "source": [
    "def informecombustible(**datostanque): #Define funcion que genera reporte de combustible\n",
    "\n",
    "    ListaTanques=list(datostanque.keys())   #Lista con los nombres de tanques\n",
    "    combustible=sum(datostanque.values())   #Total de litros en todos los tanques\n",
    "\n",
    "    print('Numero de tanques disponibles: %s'% len(datostanque.keys())) #Muestra cuantos tanques hay ingresados\n",
    "\n",
    "    for tanque,capacidad in datostanque.items():    #Muestra nombre de tanque y su capacidad\n",
    "        print(f'{ListaTanques.index(tanque)+1}.-Capacidad tanque {tanque.title()}: {capacidad} litros')\n",
    "\n",
    "    print('==>Capacidad total: %s litros' % combustible)    #Imprime el total de litros\n",
    "     \n",
    "#############################################################################################################################  \n",
    "\n",
    "def informeetapas(*steptimes):  #Define funcion que genera reporte de lista de tiempos \n",
    "\n",
    "    totaltime=sum(steptimes)    #Suma todos los tiempos\n",
    "    totalhour=int(totaltime/60) #Convierte los minutos en horas\n",
    "    totalminutes=totaltime-(totalhour*60)\n",
    "\n",
    "    print('Numero de etapas de vuelo: %s' % len(steptimes)) #Muestra cuantas etapas hay\n",
    "    var=0 #Contador de etapas\n",
    "    for time in steptimes:\n",
    "        var=var+1   #Suma valor al contador\n",
    "        if time>=60:    #Si el valor es mayor a la hora, imprime horas y minutos\n",
    "            hour=int(time/60)\n",
    "            minutes=time-(hour*60)\n",
    "            print(f'Etapa {var}: {hour}hrs {minutes}min')\n",
    "        else:   #Si el valor es menor a una hora, imprime solo minutos\n",
    "            print(f'Etapa {var}: {time}min')\n",
    "    print('==>Tiempo total de vuelo: {0}hrs {1}min' .format(totalhour,totalminutes)) #Imprime el total de tiempo de todas las etapas\n",
    "\n",
    "###############################################################################################################################    \n",
    "\n",
    "def informedevuelo(destino,*TiempoDeEtapas,**CargaEnTanques):   #Define funcion que genera reporte completo\n",
    "    \n",
    "    #Imprime dato de Destino\n",
    "    print(f\"\"\"{'*'*140}\n",
    "    ==>Su destino con nosotros es rumbo a {destino} \n",
    "    \n",
    "Los datos de su viaje detallados son los siguientes:\"\"\" )\n",
    "    print(f\"\"\"\n",
    "{'*'*140}\n",
    "    Etapas de vuelo:\n",
    "{'-'*140}\n",
    "\"\"\")\n",
    "\n",
    "    #Llama a funcion de informe de etapas, con los datos de la funcion\n",
    "    informeetapas(*TiempoDeEtapas)\n",
    "\n",
    "    print(f\"\"\"{'-'*140}\n",
    "    Resumen de combustible:\n",
    "{'-'*140}\n",
    "\"\"\")\n",
    "    #Llama a funcion de informe de tanques, con los datos de la funcion\n",
    "    informecombustible(**CargaEnTanques)\n",
    "    print('-'*140)\n",
    "        \n",
    "\n",
    "\n",
    "\n",
    "        \n",
    " "
   ]
  },
  {
   "cell_type": "code",
   "execution_count": 130,
   "metadata": {},
   "outputs": [
    {
     "name": "stdout",
     "output_type": "stream",
     "text": [
      "Favor de ingresar su destino a continuación\n",
      "Gracias, en un momento cargaremos los datos correspondientes a su vuelo\n",
      "********************************************************************************************************************************************\n",
      "    ==>Su destino con nosotros es rumbo a Tatooine\n",
      "    \n",
      "Los datos de su viaje detallados son los siguientes:\n",
      "\n",
      "********************************************************************************************************************************************\n",
      "    Etapas de vuelo:\n",
      "--------------------------------------------------------------------------------------------------------------------------------------------\n",
      "\n",
      "Numero de etapas de vuelo: 10\n",
      "Etapa 1: 15min\n",
      "Etapa 2: 5hrs 51min\n",
      "Etapa 3: 1hrs 24min\n",
      "Etapa 4: 12min\n",
      "Etapa 5: 2hrs 12min\n",
      "Etapa 6: 3hrs 33min\n",
      "Etapa 7: 21min\n",
      "Etapa 8: 12min\n",
      "Etapa 9: 45min\n",
      "Etapa 10: 32min\n",
      "==>Tiempo total de vuelo: 15hrs 17min\n",
      "--------------------------------------------------------------------------------------------------------------------------------------------\n",
      "    Resumen de combustible:\n",
      "--------------------------------------------------------------------------------------------------------------------------------------------\n",
      "\n",
      "Numero de tanques disponibles: 4\n",
      "1.-Capacidad tanque Interno: 42 litros\n",
      "2.-Capacidad tanque Externo: 75 litros\n",
      "3.-Capacidad tanque Repuesto: 42 litros\n",
      "4.-Capacidad tanque Sellado: 12 litros\n",
      "==>Capacidad total: 171 litros\n",
      "--------------------------------------------------------------------------------------------------------------------------------------------\n"
     ]
    },
    {
     "data": {
      "text/plain": [
       "'Gracias Por Su Preferencia'"
      ]
     },
     "execution_count": 130,
     "metadata": {},
     "output_type": "execute_result"
    }
   ],
   "source": [
    "from time import sleep  #Importa la función sleep\n",
    "\n",
    "\n",
    "'Bienvenido a Launch X'.title() #Saludos\n",
    "sleep(2)    #Espera 2 seg\n",
    "print('Favor de ingresar su destino a continuación')\n",
    "sleep(3) #Espera 3 seg\n",
    "user=input('Escriba a donde se dirige') #Ingresa destino el usuario\n",
    "user=user.title()   #Convierte input a formato title\n",
    "sleep(2)    #Espera 2 seg\n",
    "\n",
    "print('Gracias, en un momento cargaremos los datos correspondientes a su vuelo') #Mensaje\n",
    "sleep(2)#Espera 2 seg\n",
    "\n",
    "#Llama a la funcion del informe, y da los valores que se necesitan\n",
    "informedevuelo(user,15,351,84,12,132,213,21,12,45,32,interno=42,externo=75,repuesto=42,sellado=12)\n",
    "\n",
    "'Gracias por su preferencia'.title()    #Despedida\n",
    "\n"
   ]
  }
 ],
 "metadata": {
  "interpreter": {
   "hash": "164e0a39c0997ac06d7f882b8b725b39c1250014dc677040356b62b0511af8db"
  },
  "kernelspec": {
   "display_name": "Python 3.10.2 64-bit (windows store)",
   "language": "python",
   "name": "python3"
  },
  "language_info": {
   "codemirror_mode": {
    "name": "ipython",
    "version": 3
   },
   "file_extension": ".py",
   "mimetype": "text/x-python",
   "name": "python",
   "nbconvert_exporter": "python",
   "pygments_lexer": "ipython3",
   "version": "3.10.2"
  },
  "orig_nbformat": 4
 },
 "nbformat": 4,
 "nbformat_minor": 2
}
