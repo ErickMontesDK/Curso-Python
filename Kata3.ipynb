{
 "cells": [
  {
   "cell_type": "markdown",
   "metadata": {},
   "source": [
    "# Ejercicio - Escribir declaraciones if, else, y elif\n",
    "Para este ejercicio, escribirás una lógica condicional que imprima una advertencia si un asteroide se acerca a la Tierra demasiado rápido. La velocidad del asteroide varía dependiendo de lo cerca que esté del sol, y cualquier velocidad superior a 25 kilómetros por segundo (km/s) merece una advertencia.\n",
    "\n",
    "Un asteroide se acerca, y viaja a una velocidad de 49 km/s."
   ]
  },
  {
   "cell_type": "code",
   "execution_count": 1,
   "metadata": {},
   "outputs": [
    {
     "name": "stdout",
     "output_type": "stream",
     "text": [
      "Ningun peligro de momento\n"
     ]
    }
   ],
   "source": [
    "velasteroide=15\n",
    "\n",
    "if velasteroide>25:\n",
    "    print('Peligro, posible colisión')\n",
    "else:\n",
    "    print('Todo tranquilo')"
   ]
  },
  {
   "cell_type": "markdown",
   "metadata": {},
   "source": [
    "Si un asteroide entra en la atmósfera de la Tierra a una velocidad mayor o igual a 20 km/s, a veces produce un rayo de luz que se puede ver desde la Tierra. Escribe la lógica condicional que usa declaraciones if, else, y elif para alertar a las personas de todo el mundo que deben buscar un asteroide en el cielo. ¡Hay uno que se dirige a la tierra ahora a una velocidad de 19 km/s!"
   ]
  },
  {
   "cell_type": "code",
   "execution_count": 2,
   "metadata": {},
   "outputs": [
    {
     "name": "stdout",
     "output_type": "stream",
     "text": [
      "Todo tranquilo\n"
     ]
    }
   ],
   "source": [
    "velasteroide=19\n",
    "\n",
    "if velasteroide>25:\n",
    "    print('Peligro, posible colisión')\n",
    "elif velasteroide>=20:\n",
    "    print('Puede haber un rayo en el cielo')\n",
    "else:\n",
    "    print('Todo tranquilo')"
   ]
  },
  {
   "cell_type": "markdown",
   "metadata": {},
   "source": [
    "# Ejercicio: Uso de operadores and y or\n",
    "\n",
    "En este ejercicio, aprenderás información más matizada sobre cuándo los asteroides representan un peligro para la Tierra, y utilizarás esa información para mejorar nuestro sistema de advertencia. Aquí está la nueva información que necesitas saber:\n",
    "\n",
    "*Los asteroides de menos de 25 metros en su dimensión más grande probablemente se quemarán a medida que entren en la atmósfera de la Tierra.\n",
    "\n",
    "Si una pieza de un asteroide que es más grande que 25 metros pero más pequeña que 1000 metros golpeara la Tierra, causaría mucho daño.\n",
    "También discutimos en el ejercicio anterior que:\n",
    "\n",
    "La velocidad del asteroide varía en función de lo cerca que esté del sol, y cualquier velocidad superior a 25 kilómetros por segundo (km/s) merece una advertencia.\n",
    "Si un asteroide entra en la atmósfera de la Tierra a una velocidad mayor o igual a 20 km/s, a veces produce un rayo de luz que se puede ver desde la Tierra.\n",
    "Usando toda esta información, escribe un programa que emita la advertencia o información correcta a la gente de la Tierra, según la velocidad y el tamaño de un asteroide. Utiliza instrucciones if, else, y elif, así como los operadores and y or"
   ]
  },
  {
   "cell_type": "code",
   "execution_count": 3,
   "metadata": {},
   "outputs": [
    {
     "name": "stdout",
     "output_type": "stream",
     "text": [
      "Todo tranquilo\n"
     ]
    }
   ],
   "source": [
    "TamañoAsteroide=2\n",
    "VelAsteroide=2\n",
    "\n",
    "if TamañoAsteroide>1000:\n",
    "    print('Peligro, asteroide de gran longitud muy proximo')\n",
    "elif TamañoAsteroide>25 or VelAsteroide>25:\n",
    "    print('Posible peligro. Proceda con precaución')\n",
    "elif VelAsteroide>=20:\n",
    "    print('Se verá un rayo de luz desde la Tierra')\n",
    "else:\n",
    "    print('Todo tranquilo')\n"
   ]
  },
  {
   "cell_type": "markdown",
   "metadata": {},
   "source": [
    "# Practica propia\n",
    "Como parte de practica, la Kata fue rehecha de forma que fuera algo más compleja, de forma que se pueda sacar mas provecho de ella"
   ]
  },
  {
   "cell_type": "code",
   "execution_count": 30,
   "metadata": {},
   "outputs": [
    {
     "name": "stdout",
     "output_type": "stream",
     "text": [
      "Peligro, asteroide de gran longitud muy proximo\n"
     ]
    }
   ],
   "source": [
    "meteoros=[21,12,4500,15,35,7400,15,35,2,31,17,10]\n",
    "velocidades=[2,15,12,25,5,7,11,30,21,3,8,10,13]\n",
    "ingreso=input('Ingrese dos numeros, separados por una coma , del 1 al 12')\n",
    "seleccion=ingreso.split(',')\n",
    "\n",
    "TamañoAsteroide=(int(meteoros[int(seleccion[0])-1]))\n",
    "VelAsteroide=(int(velocidades[int(seleccion[1])-1]))\n",
    "\n",
    "if TamañoAsteroide>1000:\n",
    "    print('Peligro, asteroide de gran longitud muy proximo')\n",
    "elif TamañoAsteroide>25 or VelAsteroide>25:\n",
    "    print('Posible peligro. Proceda con precaución')\n",
    "elif VelAsteroide>=20:\n",
    "    print('Se verá un rayo de luz desde la Tierra')\n",
    "else:\n",
    "    print('Todo tranquilo de momento')\n",
    "\n",
    "\n"
   ]
  },
  {
   "cell_type": "code",
   "execution_count": null,
   "metadata": {},
   "outputs": [],
   "source": []
  }
 ],
 "metadata": {
  "interpreter": {
   "hash": "90f0c5830ef4cfe095c79c63a470726a790a0e8269691f1ab143792a22a74c89"
  },
  "kernelspec": {
   "display_name": "Python 3.10.2 64-bit",
   "language": "python",
   "name": "python3"
  },
  "language_info": {
   "codemirror_mode": {
    "name": "ipython",
    "version": 3
   },
   "file_extension": ".py",
   "mimetype": "text/x-python",
   "name": "python",
   "nbconvert_exporter": "python",
   "pygments_lexer": "ipython3",
   "version": "3.10.2"
  },
  "orig_nbformat": 4
 },
 "nbformat": 4,
 "nbformat_minor": 2
}
